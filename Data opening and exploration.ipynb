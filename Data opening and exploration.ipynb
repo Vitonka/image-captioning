{
 "cells": [
  {
   "cell_type": "code",
   "execution_count": 1,
   "metadata": {
    "id": "y8qx-n9QrNaQ"
   },
   "outputs": [],
   "source": [
    "ROOT = 'datasets'\n",
    "DATASET = 'coco'\n",
    "ANNOTATIONS_PATH = 'annotations/captions_{0}2014.json'\n",
    "IMAGES_PATH = 'images/{0}2014'"
   ]
  },
  {
   "cell_type": "code",
   "execution_count": 2,
   "metadata": {},
   "outputs": [],
   "source": [
    "import os"
   ]
  },
  {
   "cell_type": "code",
   "execution_count": 45,
   "metadata": {},
   "outputs": [
    {
     "name": "stdout",
     "output_type": "stream",
     "text": [
      "loading annotations into memory...\n",
      "Done (t=0.53s)\n",
      "creating index...\n",
      "index created!\n",
      "Number of samples:  82783\n"
     ]
    }
   ],
   "source": [
    "import torchvision.datasets as dset\n",
    "import torchvision.transforms as transforms\n",
    "\n",
    "transform = transforms.Compose(\n",
    "    [transforms.Resize((200, 200)),\n",
    "    transforms.ToTensor()\n",
    "     ])\n",
    "\n",
    "cap = dset.CocoCaptions(root = os.path.join(ROOT, DATASET, IMAGES_PATH.format('train')),\n",
    "                        annFile = os.path.join(ROOT, DATASET, ANNOTATIONS_PATH.format('train')),\n",
    "                        transform = transform)\n",
    "\n",
    "print('Number of samples: ', len(cap))"
   ]
  },
  {
   "cell_type": "code",
   "execution_count": 40,
   "metadata": {},
   "outputs": [
    {
     "data": {
      "text/plain": [
       "tensor([[[0.3216, 0.3098, 0.3333,  ..., 0.4627, 0.5294, 0.7647],\n",
       "         [0.3216, 0.2980, 0.3373,  ..., 0.4745, 0.5451, 0.7490],\n",
       "         [0.3137, 0.3020, 0.3216,  ..., 0.4706, 0.4824, 0.5176],\n",
       "         ...,\n",
       "         [0.1922, 0.1647, 0.1490,  ..., 0.6235, 0.6118, 0.5961],\n",
       "         [0.1922, 0.1843, 0.1765,  ..., 0.6078, 0.6039, 0.6039],\n",
       "         [0.2471, 0.2431, 0.2275,  ..., 0.6000, 0.5882, 0.6000]],\n",
       "\n",
       "        [[0.1686, 0.1765, 0.1804,  ..., 0.3529, 0.4118, 0.5765],\n",
       "         [0.1490, 0.1647, 0.1490,  ..., 0.3686, 0.4353, 0.5922],\n",
       "         [0.1529, 0.1569, 0.1451,  ..., 0.3608, 0.3843, 0.4118],\n",
       "         ...,\n",
       "         [0.0902, 0.0706, 0.0627,  ..., 0.6588, 0.6471, 0.6431],\n",
       "         [0.0706, 0.0745, 0.0824,  ..., 0.6471, 0.6392, 0.6353],\n",
       "         [0.1333, 0.1333, 0.1216,  ..., 0.6353, 0.6235, 0.6196]],\n",
       "\n",
       "        [[0.1020, 0.1059, 0.1176,  ..., 0.3647, 0.4039, 0.5294],\n",
       "         [0.0902, 0.0863, 0.0902,  ..., 0.3686, 0.4275, 0.5569],\n",
       "         [0.0980, 0.1137, 0.0863,  ..., 0.3490, 0.3765, 0.3882],\n",
       "         ...,\n",
       "         [0.0824, 0.0627, 0.0471,  ..., 0.9882, 0.9843, 0.9843],\n",
       "         [0.0627, 0.0706, 0.0627,  ..., 0.9804, 0.9804, 0.9804],\n",
       "         [0.0627, 0.0824, 0.0667,  ..., 0.9765, 0.9686, 0.9686]]])"
      ]
     },
     "metadata": {},
     "output_type": "display_data"
    },
    {
     "name": "stdout",
     "output_type": "stream",
     "text": [
      "['A restaurant has modern wooden tables and chairs.', 'A long restaurant table with rattan rounded back chairs.', 'a long table with a plant on top of it surrounded with wooden chairs ', 'A long table with a flower arrangement in the middle for meetings', 'A table is adorned with wooden chairs with blue accents.']\n"
     ]
    }
   ],
   "source": [
    "from IPython.display import display\n",
    "\n",
    "display(cap[0][0])\n",
    "print(cap[0][1])"
   ]
  },
  {
   "cell_type": "markdown",
   "metadata": {},
   "source": [
    "# Create mini-dataset"
   ]
  },
  {
   "cell_type": "code",
   "execution_count": 91,
   "metadata": {},
   "outputs": [],
   "source": [
    "import json"
   ]
  },
  {
   "cell_type": "code",
   "execution_count": 97,
   "metadata": {},
   "outputs": [],
   "source": [
    "with open(os.path.join(ROOT, DATASET, ANNOTATIONS_PATH.format('train'))) as f:\n",
    "    d = json.load(f)"
   ]
  },
  {
   "cell_type": "code",
   "execution_count": 99,
   "metadata": {},
   "outputs": [],
   "source": [
    "image_ids = []\n",
    "d['images'] = d['images'][:5]\n",
    "for image in d['images']:\n",
    "    image_ids.append(image['id'])"
   ]
  },
  {
   "cell_type": "code",
   "execution_count": 110,
   "metadata": {},
   "outputs": [],
   "source": [
    "annotations = []\n",
    "for annotation in d['annotations']:\n",
    "    if annotation['image_id'] in image_ids:\n",
    "        annotations.append(annotation)\n",
    "d['annotations'] = annotations"
   ]
  },
  {
   "cell_type": "code",
   "execution_count": 111,
   "metadata": {},
   "outputs": [],
   "source": [
    "os.mkdir(os.path.join(ROOT, 'mini_coco'))"
   ]
  },
  {
   "cell_type": "code",
   "execution_count": 113,
   "metadata": {},
   "outputs": [],
   "source": [
    "image_filenames = []\n",
    "for image in d['images']:\n",
    "    image_filenames.append(image['file_name'])"
   ]
  },
  {
   "cell_type": "code",
   "execution_count": 114,
   "metadata": {},
   "outputs": [],
   "source": [
    "os.mkdir(os.path.join(ROOT, 'mini_coco', 'images'))\n",
    "os.mkdir(os.path.join(ROOT, 'mini_coco', 'annotations'))"
   ]
  },
  {
   "cell_type": "code",
   "execution_count": 117,
   "metadata": {},
   "outputs": [
    {
     "ename": "FileExistsError",
     "evalue": "[Errno 17] File exists: 'datasets/mini_coco/images/train2014'",
     "output_type": "error",
     "traceback": [
      "\u001b[0;31m---------------------------------------------------------------------------\u001b[0m",
      "\u001b[0;31mFileExistsError\u001b[0m                           Traceback (most recent call last)",
      "\u001b[0;32m<ipython-input-117-fb02a570be69>\u001b[0m in \u001b[0;36m<module>\u001b[0;34m()\u001b[0m\n\u001b[0;32m----> 1\u001b[0;31m \u001b[0mos\u001b[0m\u001b[0;34m.\u001b[0m\u001b[0mmkdir\u001b[0m\u001b[0;34m(\u001b[0m\u001b[0mos\u001b[0m\u001b[0;34m.\u001b[0m\u001b[0mpath\u001b[0m\u001b[0;34m.\u001b[0m\u001b[0mjoin\u001b[0m\u001b[0;34m(\u001b[0m\u001b[0mROOT\u001b[0m\u001b[0;34m,\u001b[0m \u001b[0;34m'mini_coco'\u001b[0m\u001b[0;34m,\u001b[0m \u001b[0mIMAGES_PATH\u001b[0m\u001b[0;34m.\u001b[0m\u001b[0mformat\u001b[0m\u001b[0;34m(\u001b[0m\u001b[0;34m'train'\u001b[0m\u001b[0;34m)\u001b[0m\u001b[0;34m)\u001b[0m\u001b[0;34m)\u001b[0m\u001b[0;34m\u001b[0m\u001b[0;34m\u001b[0m\u001b[0m\n\u001b[0m",
      "\u001b[0;31mFileExistsError\u001b[0m: [Errno 17] File exists: 'datasets/mini_coco/images/train2014'"
     ]
    }
   ],
   "source": [
    "os.mkdir(os.path.join(ROOT, 'mini_coco', IMAGES_PATH.format('train')))"
   ]
  },
  {
   "cell_type": "code",
   "execution_count": 118,
   "metadata": {},
   "outputs": [],
   "source": [
    "from shutil import copyfile\n",
    "\n",
    "for filename in image_filenames:\n",
    "    copyfile(os.path.join(ROOT, DATASET, IMAGES_PATH.format('train'), filename),\n",
    "             os.path.join(ROOT, 'mini_coco', IMAGES_PATH.format('train'), filename))"
   ]
  },
  {
   "cell_type": "code",
   "execution_count": 123,
   "metadata": {},
   "outputs": [],
   "source": [
    "with open(os.path.join(ROOT, 'mini_coco', ANNOTATIONS_PATH.format('train')), 'w') as f:\n",
    "    json.dump(d, f)"
   ]
  },
  {
   "cell_type": "markdown",
   "metadata": {},
   "source": [
    "# Prepare dictionary"
   ]
  },
  {
   "cell_type": "code",
   "execution_count": 124,
   "metadata": {},
   "outputs": [
    {
     "name": "stdout",
     "output_type": "stream",
     "text": [
      "loading annotations into memory...\n",
      "Done (t=0.00s)\n",
      "creating index...\n",
      "index created!\n"
     ]
    }
   ],
   "source": [
    "cap = dset.CocoCaptions(root = os.path.join(ROOT, 'mini_coco', IMAGES_PATH.format('train')),\n",
    "                        annFile = os.path.join(ROOT, 'mini_coco', ANNOTATIONS_PATH.format('train')))"
   ]
  },
  {
   "cell_type": "code",
   "execution_count": 125,
   "metadata": {},
   "outputs": [],
   "source": [
    "from nltk.tokenize import word_tokenize\n",
    "import string\n",
    "from collections import Counter\n",
    "\n",
    "c = {}\n",
    "\n",
    "for image, texts in cap:\n",
    "    for text in texts:\n",
    "        text = text.translate(str.maketrans('', '', string.punctuation))\n",
    "        text = text.lower()\n",
    "        text = word_tokenize(text)\n",
    "        for word in text:\n",
    "            c[word] += 1"
   ]
  },
  {
   "cell_type": "code",
   "execution_count": 135,
   "metadata": {},
   "outputs": [],
   "source": [
    "c_filtered = [word for word in c if c[word] > 1]"
   ]
  },
  {
   "cell_type": "code",
   "execution_count": 138,
   "metadata": {},
   "outputs": [],
   "source": [
    "UNK = '<UNK>'\n",
    "END = '<END>'\n",
    "\n",
    "c_filtered.append(UNK)\n",
    "c_filtered.append(END)"
   ]
  },
  {
   "cell_type": "code",
   "execution_count": 150,
   "metadata": {},
   "outputs": [],
   "source": [
    "i2w = {}\n",
    "w2i = {}\n",
    "\n",
    "for index, word in enumerate(c_filtered):\n",
    "    i2w[index] = word\n",
    "    w2i[word] = index"
   ]
  },
  {
   "cell_type": "code",
   "execution_count": 151,
   "metadata": {},
   "outputs": [
    {
     "name": "stdout",
     "output_type": "stream",
     "text": [
      "{0: 'a', 1: 'and', 2: 'with', 3: 'of', 4: 'in', 5: 'is', 6: 'kitchen', 7: '<UNK>', 8: '<END>'}\n",
      "{'a': 0, 'and': 1, 'with': 2, 'of': 3, 'in': 4, 'is': 5, 'kitchen': 6, '<UNK>': 7, '<END>': 8}\n"
     ]
    }
   ],
   "source": [
    "print(i2w)\n",
    "print(w2i)"
   ]
  },
  {
   "cell_type": "markdown",
   "metadata": {},
   "source": [
    "# Transform text to index sequence"
   ]
  },
  {
   "cell_type": "code",
   "execution_count": 152,
   "metadata": {},
   "outputs": [],
   "source": [
    "def transform_text(text):\n",
    "    text = text.translate(str.maketrans('', '', string.punctuation))\n",
    "    text = text.lower()\n",
    "    text = word_tokenize(text)\n",
    "    \n",
    "    sequence = []\n",
    "    for word in text:\n",
    "        if word in w2i:\n",
    "            sequence.append(w2i[word])\n",
    "        else:\n",
    "            sequence.append(w2i[UNK])\n",
    "    sequence.append(w2i[END])\n",
    "    return sequence"
   ]
  },
  {
   "cell_type": "code",
   "execution_count": 154,
   "metadata": {},
   "outputs": [
    {
     "data": {
      "text/plain": [
       "[0, 7, 2, 0, 6, 8]"
      ]
     },
     "execution_count": 154,
     "metadata": {},
     "output_type": "execute_result"
    }
   ],
   "source": [
    "transform_text('A pen with, a, kitchen!!.')"
   ]
  },
  {
   "cell_type": "markdown",
   "metadata": {},
   "source": [
    "# Train model"
   ]
  },
  {
   "cell_type": "code",
   "execution_count": 20,
   "metadata": {},
   "outputs": [],
   "source": [
    "import torch"
   ]
  },
  {
   "cell_type": "code",
   "execution_count": 66,
   "metadata": {},
   "outputs": [],
   "source": [
    "def collate_fn(batch):\n",
    "    print(len(batch))\n",
    "    return batch"
   ]
  },
  {
   "cell_type": "code",
   "execution_count": 67,
   "metadata": {},
   "outputs": [],
   "source": [
    "trainloader = torch.utils.data.DataLoader(cap, batch_size=4, shuffle=True, collate_fn=collate_fn)"
   ]
  },
  {
   "cell_type": "code",
   "execution_count": 68,
   "metadata": {},
   "outputs": [
    {
     "name": "stdout",
     "output_type": "stream",
     "text": [
      "4\n"
     ]
    }
   ],
   "source": [
    "b = None\n",
    "\n",
    "for batch in trainloader:\n",
    "    b = batch\n",
    "    break"
   ]
  },
  {
   "cell_type": "code",
   "execution_count": 46,
   "metadata": {},
   "outputs": [
    {
     "data": {
      "text/plain": [
       "torch.Size([3, 200, 200])"
      ]
     },
     "execution_count": 46,
     "metadata": {},
     "output_type": "execute_result"
    }
   ],
   "source": [
    "cap[0][0].size()"
   ]
  },
  {
   "cell_type": "code",
   "execution_count": 47,
   "metadata": {},
   "outputs": [
    {
     "data": {
      "text/plain": [
       "torch.Size([3, 200, 200])"
      ]
     },
     "execution_count": 47,
     "metadata": {},
     "output_type": "execute_result"
    }
   ],
   "source": [
    "cap[1][0].size()"
   ]
  },
  {
   "cell_type": "code",
   "execution_count": 64,
   "metadata": {},
   "outputs": [
    {
     "data": {
      "text/plain": [
       "[('A white bus is parked on a road near a small hill and the ocean.',\n",
       "  'Grey storm clouds loom over a city street in a business district.',\n",
       "  'A train car with four beds next to a window.',\n",
       "  'a silver and black train engine and some people '),\n",
       " ('A van parked at the side of a graveled road.',\n",
       "  'An empty sign stands near a city street.',\n",
       "  'a room with two bunk beds in it next to a big window ',\n",
       "  'A man showing some visitors a steam engine.'),\n",
       " ('A bus sitting next to a body of water on a gravel road.',\n",
       "  'A sign that is standing in a parking lot.',\n",
       "  'Beds are in a small room near a window and table with bottles on it. ',\n",
       "  'An old fashion train engine is being observed by a group of people. '),\n",
       " ('A van is pulled up to a boat docking area while a cow stands alongside the signs.',\n",
       "  'Empty commercial building on a city street corner.',\n",
       "  'Two beers sit on a table between bunk beds.',\n",
       "  'A train that is on some train tracks.'),\n",
       " ('There is a can pulled over on the side of the road next to the water. ',\n",
       "  'An empty sign stands next to a road.',\n",
       "  'A couple of beers are sitting on a red stool.',\n",
       "  'A man points at a train at a train station. ')]"
      ]
     },
     "execution_count": 64,
     "metadata": {},
     "output_type": "execute_result"
    }
   ],
   "source": [
    "b[1]"
   ]
  },
  {
   "cell_type": "code",
   "execution_count": null,
   "metadata": {},
   "outputs": [],
   "source": []
  }
 ],
 "metadata": {
  "colab": {
   "collapsed_sections": [],
   "name": "Untitled.ipynb",
   "provenance": []
  },
  "kernelspec": {
   "display_name": "Python 3",
   "language": "python",
   "name": "python3"
  },
  "language_info": {
   "codemirror_mode": {
    "name": "ipython",
    "version": 3
   },
   "file_extension": ".py",
   "mimetype": "text/x-python",
   "name": "python",
   "nbconvert_exporter": "python",
   "pygments_lexer": "ipython3",
   "version": "3.6.7"
  }
 },
 "nbformat": 4,
 "nbformat_minor": 1
}
