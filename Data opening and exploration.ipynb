{
 "cells": [
  {
   "cell_type": "code",
   "execution_count": 2,
   "metadata": {
    "id": "y8qx-n9QrNaQ"
   },
   "outputs": [],
   "source": [
    "ROOT = 'datasets'\n",
    "DATASET = 'coco'\n",
    "ANNOTATIONS_PATH = 'annotations/captions_{0}2014.json'\n",
    "IMAGES_PATH = 'images/{0}2014'"
   ]
  },
  {
   "cell_type": "code",
   "execution_count": 3,
   "metadata": {},
   "outputs": [],
   "source": [
    "import os"
   ]
  },
  {
   "cell_type": "code",
   "execution_count": 8,
   "metadata": {},
   "outputs": [],
   "source": [
    "import torchvision.datasets as dset\n",
    "import torchvision.transforms as transforms"
   ]
  },
  {
   "cell_type": "code",
   "execution_count": 7,
   "metadata": {},
   "outputs": [
    {
     "name": "stdout",
     "output_type": "stream",
     "text": [
      "loading annotations into memory...\n",
      "Done (t=0.55s)\n",
      "creating index...\n",
      "index created!\n",
      "Number of samples:  82783\n"
     ]
    }
   ],
   "source": [
    "transform = transforms.Compose(\n",
    "    [transforms.Resize((200, 200)),\n",
    "    transforms.ToTensor()\n",
    "     ])\n",
    "\n",
    "cap = dset.CocoCaptions(root = os.path.join(ROOT, DATASET, IMAGES_PATH.format('train')),\n",
    "                        annFile = os.path.join(ROOT, DATASET, ANNOTATIONS_PATH.format('train')),\n",
    "                        transform = transform)\n",
    "\n",
    "print('Number of samples: ', len(cap))"
   ]
  },
  {
   "cell_type": "code",
   "execution_count": 40,
   "metadata": {},
   "outputs": [
    {
     "data": {
      "text/plain": [
       "tensor([[[0.3216, 0.3098, 0.3333,  ..., 0.4627, 0.5294, 0.7647],\n",
       "         [0.3216, 0.2980, 0.3373,  ..., 0.4745, 0.5451, 0.7490],\n",
       "         [0.3137, 0.3020, 0.3216,  ..., 0.4706, 0.4824, 0.5176],\n",
       "         ...,\n",
       "         [0.1922, 0.1647, 0.1490,  ..., 0.6235, 0.6118, 0.5961],\n",
       "         [0.1922, 0.1843, 0.1765,  ..., 0.6078, 0.6039, 0.6039],\n",
       "         [0.2471, 0.2431, 0.2275,  ..., 0.6000, 0.5882, 0.6000]],\n",
       "\n",
       "        [[0.1686, 0.1765, 0.1804,  ..., 0.3529, 0.4118, 0.5765],\n",
       "         [0.1490, 0.1647, 0.1490,  ..., 0.3686, 0.4353, 0.5922],\n",
       "         [0.1529, 0.1569, 0.1451,  ..., 0.3608, 0.3843, 0.4118],\n",
       "         ...,\n",
       "         [0.0902, 0.0706, 0.0627,  ..., 0.6588, 0.6471, 0.6431],\n",
       "         [0.0706, 0.0745, 0.0824,  ..., 0.6471, 0.6392, 0.6353],\n",
       "         [0.1333, 0.1333, 0.1216,  ..., 0.6353, 0.6235, 0.6196]],\n",
       "\n",
       "        [[0.1020, 0.1059, 0.1176,  ..., 0.3647, 0.4039, 0.5294],\n",
       "         [0.0902, 0.0863, 0.0902,  ..., 0.3686, 0.4275, 0.5569],\n",
       "         [0.0980, 0.1137, 0.0863,  ..., 0.3490, 0.3765, 0.3882],\n",
       "         ...,\n",
       "         [0.0824, 0.0627, 0.0471,  ..., 0.9882, 0.9843, 0.9843],\n",
       "         [0.0627, 0.0706, 0.0627,  ..., 0.9804, 0.9804, 0.9804],\n",
       "         [0.0627, 0.0824, 0.0667,  ..., 0.9765, 0.9686, 0.9686]]])"
      ]
     },
     "metadata": {},
     "output_type": "display_data"
    },
    {
     "name": "stdout",
     "output_type": "stream",
     "text": [
      "['A restaurant has modern wooden tables and chairs.', 'A long restaurant table with rattan rounded back chairs.', 'a long table with a plant on top of it surrounded with wooden chairs ', 'A long table with a flower arrangement in the middle for meetings', 'A table is adorned with wooden chairs with blue accents.']\n"
     ]
    }
   ],
   "source": [
    "from IPython.display import display\n",
    "\n",
    "display(cap[0][0])\n",
    "print(cap[0][1])"
   ]
  },
  {
   "cell_type": "markdown",
   "metadata": {},
   "source": [
    "# Create mini-dataset"
   ]
  },
  {
   "cell_type": "code",
   "execution_count": 1,
   "metadata": {},
   "outputs": [],
   "source": [
    "import json"
   ]
  },
  {
   "cell_type": "code",
   "execution_count": 97,
   "metadata": {},
   "outputs": [],
   "source": [
    "with open(os.path.join(ROOT, DATASET, ANNOTATIONS_PATH.format('train'))) as f:\n",
    "    d = json.load(f)"
   ]
  },
  {
   "cell_type": "code",
   "execution_count": 99,
   "metadata": {},
   "outputs": [],
   "source": [
    "image_ids = []\n",
    "d['images'] = d['images'][:5]\n",
    "for image in d['images']:\n",
    "    image_ids.append(image['id'])"
   ]
  },
  {
   "cell_type": "code",
   "execution_count": 110,
   "metadata": {},
   "outputs": [],
   "source": [
    "annotations = []\n",
    "for annotation in d['annotations']:\n",
    "    if annotation['image_id'] in image_ids:\n",
    "        annotations.append(annotation)\n",
    "d['annotations'] = annotations"
   ]
  },
  {
   "cell_type": "code",
   "execution_count": 111,
   "metadata": {},
   "outputs": [],
   "source": [
    "os.mkdir(os.path.join(ROOT, 'mini_coco'))"
   ]
  },
  {
   "cell_type": "code",
   "execution_count": 113,
   "metadata": {},
   "outputs": [],
   "source": [
    "image_filenames = []\n",
    "for image in d['images']:\n",
    "    image_filenames.append(image['file_name'])"
   ]
  },
  {
   "cell_type": "code",
   "execution_count": 114,
   "metadata": {},
   "outputs": [],
   "source": [
    "os.mkdir(os.path.join(ROOT, 'mini_coco', 'images'))\n",
    "os.mkdir(os.path.join(ROOT, 'mini_coco', 'annotations'))"
   ]
  },
  {
   "cell_type": "code",
   "execution_count": 117,
   "metadata": {},
   "outputs": [
    {
     "ename": "FileExistsError",
     "evalue": "[Errno 17] File exists: 'datasets/mini_coco/images/train2014'",
     "output_type": "error",
     "traceback": [
      "\u001b[0;31m---------------------------------------------------------------------------\u001b[0m",
      "\u001b[0;31mFileExistsError\u001b[0m                           Traceback (most recent call last)",
      "\u001b[0;32m<ipython-input-117-fb02a570be69>\u001b[0m in \u001b[0;36m<module>\u001b[0;34m()\u001b[0m\n\u001b[0;32m----> 1\u001b[0;31m \u001b[0mos\u001b[0m\u001b[0;34m.\u001b[0m\u001b[0mmkdir\u001b[0m\u001b[0;34m(\u001b[0m\u001b[0mos\u001b[0m\u001b[0;34m.\u001b[0m\u001b[0mpath\u001b[0m\u001b[0;34m.\u001b[0m\u001b[0mjoin\u001b[0m\u001b[0;34m(\u001b[0m\u001b[0mROOT\u001b[0m\u001b[0;34m,\u001b[0m \u001b[0;34m'mini_coco'\u001b[0m\u001b[0;34m,\u001b[0m \u001b[0mIMAGES_PATH\u001b[0m\u001b[0;34m.\u001b[0m\u001b[0mformat\u001b[0m\u001b[0;34m(\u001b[0m\u001b[0;34m'train'\u001b[0m\u001b[0;34m)\u001b[0m\u001b[0;34m)\u001b[0m\u001b[0;34m)\u001b[0m\u001b[0;34m\u001b[0m\u001b[0;34m\u001b[0m\u001b[0m\n\u001b[0m",
      "\u001b[0;31mFileExistsError\u001b[0m: [Errno 17] File exists: 'datasets/mini_coco/images/train2014'"
     ]
    }
   ],
   "source": [
    "os.mkdir(os.path.join(ROOT, 'mini_coco', IMAGES_PATH.format('train')))"
   ]
  },
  {
   "cell_type": "code",
   "execution_count": 118,
   "metadata": {},
   "outputs": [],
   "source": [
    "from shutil import copyfile\n",
    "\n",
    "for filename in image_filenames:\n",
    "    copyfile(os.path.join(ROOT, DATASET, IMAGES_PATH.format('train'), filename),\n",
    "             os.path.join(ROOT, 'mini_coco', IMAGES_PATH.format('train'), filename))"
   ]
  },
  {
   "cell_type": "code",
   "execution_count": 123,
   "metadata": {},
   "outputs": [],
   "source": [
    "with open(os.path.join(ROOT, 'mini_coco', ANNOTATIONS_PATH.format('train')), 'w') as f:\n",
    "    json.dump(d, f)"
   ]
  },
  {
   "cell_type": "markdown",
   "metadata": {},
   "source": [
    "# Prepare dictionary"
   ]
  },
  {
   "cell_type": "code",
   "execution_count": 172,
   "metadata": {},
   "outputs": [
    {
     "name": "stdout",
     "output_type": "stream",
     "text": [
      "loading annotations into memory...\n",
      "Done (t=0.00s)\n",
      "creating index...\n",
      "index created!\n"
     ]
    }
   ],
   "source": [
    "cap = dset.CocoCaptions(root = os.path.join(ROOT, 'mini_coco', IMAGES_PATH.format('train')),\n",
    "                        annFile = os.path.join(ROOT, 'mini_coco', ANNOTATIONS_PATH.format('train')))"
   ]
  },
  {
   "cell_type": "code",
   "execution_count": 173,
   "metadata": {},
   "outputs": [],
   "source": [
    "from nltk.tokenize import word_tokenize\n",
    "import string\n",
    "from collections import defaultdict\n",
    "\n",
    "c = defaultdict(int)\n",
    "\n",
    "for image, texts in cap:\n",
    "    for text in texts:\n",
    "        text = text.translate(str.maketrans('', '', string.punctuation))\n",
    "        text = text.lower()\n",
    "        text = word_tokenize(text)\n",
    "        for word in text:\n",
    "            c[word] += 1"
   ]
  },
  {
   "cell_type": "code",
   "execution_count": 174,
   "metadata": {},
   "outputs": [],
   "source": [
    "c_filtered = [word for word in c if c[word] > 3]"
   ]
  },
  {
   "cell_type": "code",
   "execution_count": 176,
   "metadata": {},
   "outputs": [],
   "source": [
    "START = '<START>'\n",
    "UNK = '<UNK>'\n",
    "END = '<END>'\n",
    "\n",
    "c_filtered.append(START)\n",
    "c_filtered.append(UNK)\n",
    "c_filtered.append(END)"
   ]
  },
  {
   "cell_type": "code",
   "execution_count": 177,
   "metadata": {},
   "outputs": [],
   "source": [
    "i2w = {}\n",
    "w2i = {}\n",
    "\n",
    "for index, word in enumerate(c_filtered):\n",
    "    i2w[index] = word\n",
    "    w2i[word] = index"
   ]
  },
  {
   "cell_type": "code",
   "execution_count": 178,
   "metadata": {},
   "outputs": [
    {
     "name": "stdout",
     "output_type": "stream",
     "text": [
      "{0: 'a', 1: 'and', 2: 'chairs', 3: 'table', 4: 'with', 5: 'on', 6: 'of', 7: 'in', 8: 'the', 9: 'is', 10: 'man', 11: 'kitchen', 12: 'small', 13: 'person', 14: 'booth', 15: 'phone', 16: '<START>', 17: '<UNK>', 18: '<END>'}\n",
      "{'a': 0, 'and': 1, 'chairs': 2, 'table': 3, 'with': 4, 'on': 5, 'of': 6, 'in': 7, 'the': 8, 'is': 9, 'man': 10, 'kitchen': 11, 'small': 12, 'person': 13, 'booth': 14, 'phone': 15, '<START>': 16, '<UNK>': 17, '<END>': 18}\n"
     ]
    }
   ],
   "source": [
    "print(i2w)\n",
    "print(w2i)"
   ]
  },
  {
   "cell_type": "markdown",
   "metadata": {},
   "source": [
    "# Transform text to index sequence"
   ]
  },
  {
   "cell_type": "code",
   "execution_count": 179,
   "metadata": {},
   "outputs": [],
   "source": [
    "def transform_text(text):\n",
    "    text = text.translate(str.maketrans('', '', string.punctuation))\n",
    "    text = text.lower()\n",
    "    text = word_tokenize(text)\n",
    "    \n",
    "    sequence = [w2i[START]]\n",
    "    for word in text:\n",
    "        if word in w2i:\n",
    "            sequence.append(w2i[word])\n",
    "        else:\n",
    "            sequence.append(w2i[UNK])\n",
    "    sequence.append(w2i[END])\n",
    "    return sequence"
   ]
  },
  {
   "cell_type": "code",
   "execution_count": 180,
   "metadata": {},
   "outputs": [
    {
     "data": {
      "text/plain": [
       "[16, 0, 17, 4, 0, 11, 18]"
      ]
     },
     "execution_count": 180,
     "metadata": {},
     "output_type": "execute_result"
    }
   ],
   "source": [
    "transform_text('A pen with, a, kitchen!!.')"
   ]
  },
  {
   "cell_type": "markdown",
   "metadata": {},
   "source": [
    "# Train model"
   ]
  },
  {
   "cell_type": "code",
   "execution_count": 20,
   "metadata": {},
   "outputs": [],
   "source": [
    "import torch"
   ]
  },
  {
   "cell_type": "code",
   "execution_count": 66,
   "metadata": {},
   "outputs": [],
   "source": [
    "def collate_fn(batch):\n",
    "    print(len(batch))\n",
    "    return batch"
   ]
  },
  {
   "cell_type": "code",
   "execution_count": 67,
   "metadata": {},
   "outputs": [],
   "source": [
    "trainloader = torch.utils.data.DataLoader(cap, batch_size=4, shuffle=True, collate_fn=collate_fn)"
   ]
  },
  {
   "cell_type": "code",
   "execution_count": 68,
   "metadata": {},
   "outputs": [
    {
     "name": "stdout",
     "output_type": "stream",
     "text": [
      "4\n"
     ]
    }
   ],
   "source": [
    "b = None\n",
    "\n",
    "for batch in trainloader:\n",
    "    b = batch\n",
    "    break"
   ]
  },
  {
   "cell_type": "code",
   "execution_count": 46,
   "metadata": {},
   "outputs": [
    {
     "data": {
      "text/plain": [
       "torch.Size([3, 200, 200])"
      ]
     },
     "execution_count": 46,
     "metadata": {},
     "output_type": "execute_result"
    }
   ],
   "source": [
    "cap[0][0].size()"
   ]
  },
  {
   "cell_type": "code",
   "execution_count": 47,
   "metadata": {},
   "outputs": [
    {
     "data": {
      "text/plain": [
       "torch.Size([3, 200, 200])"
      ]
     },
     "execution_count": 47,
     "metadata": {},
     "output_type": "execute_result"
    }
   ],
   "source": [
    "cap[1][0].size()"
   ]
  },
  {
   "cell_type": "code",
   "execution_count": 64,
   "metadata": {},
   "outputs": [
    {
     "data": {
      "text/plain": [
       "[('A white bus is parked on a road near a small hill and the ocean.',\n",
       "  'Grey storm clouds loom over a city street in a business district.',\n",
       "  'A train car with four beds next to a window.',\n",
       "  'a silver and black train engine and some people '),\n",
       " ('A van parked at the side of a graveled road.',\n",
       "  'An empty sign stands near a city street.',\n",
       "  'a room with two bunk beds in it next to a big window ',\n",
       "  'A man showing some visitors a steam engine.'),\n",
       " ('A bus sitting next to a body of water on a gravel road.',\n",
       "  'A sign that is standing in a parking lot.',\n",
       "  'Beds are in a small room near a window and table with bottles on it. ',\n",
       "  'An old fashion train engine is being observed by a group of people. '),\n",
       " ('A van is pulled up to a boat docking area while a cow stands alongside the signs.',\n",
       "  'Empty commercial building on a city street corner.',\n",
       "  'Two beers sit on a table between bunk beds.',\n",
       "  'A train that is on some train tracks.'),\n",
       " ('There is a can pulled over on the side of the road next to the water. ',\n",
       "  'An empty sign stands next to a road.',\n",
       "  'A couple of beers are sitting on a red stool.',\n",
       "  'A man points at a train at a train station. ')]"
      ]
     },
     "execution_count": 64,
     "metadata": {},
     "output_type": "execute_result"
    }
   ],
   "source": [
    "b[1]"
   ]
  },
  {
   "cell_type": "code",
   "execution_count": 23,
   "metadata": {},
   "outputs": [],
   "source": [
    "import torch\n",
    "from torch import nn"
   ]
  },
  {
   "cell_type": "code",
   "execution_count": 20,
   "metadata": {},
   "outputs": [],
   "source": [
    "embed = nn.Embedding(18, 5)"
   ]
  },
  {
   "cell_type": "code",
   "execution_count": 27,
   "metadata": {},
   "outputs": [
    {
     "ename": "ValueError",
     "evalue": "expected sequence of length 5 at dim 1 (got 2)",
     "output_type": "error",
     "traceback": [
      "\u001b[0;31m---------------------------------------------------------------------------\u001b[0m",
      "\u001b[0;31mValueError\u001b[0m                                Traceback (most recent call last)",
      "\u001b[0;32m<ipython-input-27-7a90acebc276>\u001b[0m in \u001b[0;36m<module>\u001b[0;34m()\u001b[0m\n\u001b[0;32m----> 1\u001b[0;31m \u001b[0minp\u001b[0m \u001b[0;34m=\u001b[0m \u001b[0mtorch\u001b[0m\u001b[0;34m.\u001b[0m\u001b[0mLongTensor\u001b[0m\u001b[0;34m(\u001b[0m\u001b[0;34m[\u001b[0m\u001b[0;34m[\u001b[0m\u001b[0;36m1\u001b[0m\u001b[0;34m,\u001b[0m \u001b[0;36m2\u001b[0m\u001b[0;34m,\u001b[0m \u001b[0;36m3\u001b[0m\u001b[0;34m,\u001b[0m \u001b[0;36m4\u001b[0m\u001b[0;34m,\u001b[0m \u001b[0;36m5\u001b[0m\u001b[0;34m]\u001b[0m\u001b[0;34m,\u001b[0m \u001b[0;34m[\u001b[0m\u001b[0;36m5\u001b[0m\u001b[0;34m,\u001b[0m \u001b[0;36m6\u001b[0m\u001b[0;34m]\u001b[0m\u001b[0;34m]\u001b[0m\u001b[0;34m)\u001b[0m\u001b[0;34m\u001b[0m\u001b[0;34m\u001b[0m\u001b[0m\n\u001b[0m",
      "\u001b[0;31mValueError\u001b[0m: expected sequence of length 5 at dim 1 (got 2)"
     ]
    }
   ],
   "source": [
    "inp = torch.LongTensor([[1, 2, 3, 4, 5], [5, 6]])"
   ]
  },
  {
   "cell_type": "code",
   "execution_count": 26,
   "metadata": {},
   "outputs": [
    {
     "data": {
      "text/plain": [
       "torch.Size([5, 5])"
      ]
     },
     "execution_count": 26,
     "metadata": {},
     "output_type": "execute_result"
    }
   ],
   "source": [
    "embed(inp).shape"
   ]
  },
  {
   "cell_type": "code",
   "execution_count": 34,
   "metadata": {},
   "outputs": [
    {
     "data": {
      "text/plain": [
       "PackedSequence(data=tensor([1, 4, 6, 2, 5, 3]), batch_sizes=tensor([3, 2, 1]), sorted_indices=None, unsorted_indices=None)"
      ]
     },
     "execution_count": 34,
     "metadata": {},
     "output_type": "execute_result"
    }
   ],
   "source": [
    "from torch.nn.utils.rnn import pack_sequence\n",
    "a = torch.tensor([1,2,3])\n",
    "b = torch.tensor([4,5])\n",
    "c = torch.tensor([6])\n",
    "pack_sequence([a, b, c])"
   ]
  },
  {
   "cell_type": "code",
   "execution_count": 33,
   "metadata": {},
   "outputs": [
    {
     "ename": "AttributeError",
     "evalue": "can't set attribute",
     "output_type": "error",
     "traceback": [
      "\u001b[0;31m---------------------------------------------------------------------------\u001b[0m",
      "\u001b[0;31mAttributeError\u001b[0m                            Traceback (most recent call last)",
      "\u001b[0;32m<ipython-input-33-7881ae1aad43>\u001b[0m in \u001b[0;36m<module>\u001b[0;34m()\u001b[0m\n\u001b[0;32m----> 1\u001b[0;31m \u001b[0mpacked\u001b[0m\u001b[0;34m.\u001b[0m\u001b[0mdata\u001b[0m \u001b[0;34m=\u001b[0m \u001b[0membed\u001b[0m\u001b[0;34m(\u001b[0m\u001b[0mpacked\u001b[0m\u001b[0;34m.\u001b[0m\u001b[0mdata\u001b[0m\u001b[0;34m)\u001b[0m\u001b[0;34m.\u001b[0m\u001b[0mshape\u001b[0m\u001b[0;34m\u001b[0m\u001b[0;34m\u001b[0m\u001b[0m\n\u001b[0m",
      "\u001b[0;31mAttributeError\u001b[0m: can't set attribute"
     ]
    }
   ],
   "source": [
    "packed.data = embed(packed.data).shape"
   ]
  },
  {
   "cell_type": "code",
   "execution_count": 35,
   "metadata": {},
   "outputs": [
    {
     "data": {
      "text/plain": [
       "PackedSequence(data=tensor([1, 2, 3]), batch_sizes=tensor([1, 2]), sorted_indices=None, unsorted_indices=None)"
      ]
     },
     "execution_count": 35,
     "metadata": {},
     "output_type": "execute_result"
    }
   ],
   "source": [
    "nn.utils.rnn.PackedSequence(\n",
    "    a, torch.tensor([1, 2]))"
   ]
  },
  {
   "cell_type": "code",
   "execution_count": 159,
   "metadata": {},
   "outputs": [],
   "source": [
    "class SimpleModel(nn.Module):\n",
    "    def __init__(self, *args, **kwargs):\n",
    "        super(SimpleModel, self).__init__(*args, **kwargs)\n",
    "        self.encoder = nn.Conv2d(3, 5, 3)\n",
    "        self.embeddings = nn.Embedding(18, 7)\n",
    "        self.decoder = nn.RNN(7, 3)\n",
    "        self.linear = nn.Linear(196020, 3)\n",
    "        self.last_linear = nn.Linear(3, 18)\n",
    "        self.softmax = nn.Softmax(dim=1)\n",
    "        \n",
    "    def forward(self, image, captions):\n",
    "        h0 = self.linear(self.encoder(image).view(-1, 196020))\n",
    "        h0 = h0.repeat(1, 5, 1)\n",
    "        packed_embeds = nn.utils.rnn.PackedSequence(self.embeddings(captions.data), captions.batch_sizes)\n",
    "        decoded, _ = self.decoder(packed_embeds, h0)\n",
    "        probs = self.softmax(self.last_linear(decoded.data))\n",
    "        return nn.utils.rnn.PackedSequence(probs, decoded.batch_sizes)"
   ]
  },
  {
   "cell_type": "code",
   "execution_count": 55,
   "metadata": {},
   "outputs": [],
   "source": [
    "def collate_fn(batch):\n",
    "    return batch\n",
    "\n",
    "trainloader = torch.utils.data.DataLoader(cap, batch_size=1, shuffle=False, collate_fn=collate_fn)"
   ]
  },
  {
   "cell_type": "code",
   "execution_count": 56,
   "metadata": {},
   "outputs": [],
   "source": [
    "sample_batch = None\n",
    "\n",
    "for b in trainloader:\n",
    "    sample_batch = b\n",
    "    break"
   ]
  },
  {
   "cell_type": "code",
   "execution_count": 57,
   "metadata": {},
   "outputs": [
    {
     "data": {
      "text/plain": [
       "[(<PIL.Image.Image image mode=RGB size=640x480 at 0x7F7125F94978>,\n",
       "  ['A restaurant has modern wooden tables and chairs.',\n",
       "   'A long restaurant table with rattan rounded back chairs.',\n",
       "   'a long table with a plant on top of it surrounded with wooden chairs ',\n",
       "   'A long table with a flower arrangement in the middle for meetings',\n",
       "   'A table is adorned with wooden chairs with blue accents.'])]"
      ]
     },
     "execution_count": 57,
     "metadata": {},
     "output_type": "execute_result"
    }
   ],
   "source": [
    "sample_batch"
   ]
  },
  {
   "cell_type": "code",
   "execution_count": 81,
   "metadata": {},
   "outputs": [],
   "source": [
    "transform = transforms.Compose(\n",
    "    [transforms.Resize((200, 200)),\n",
    "    transforms.ToTensor()\n",
    "     ])\n",
    "\n",
    "image = transform(sample_batch[0][0])"
   ]
  },
  {
   "cell_type": "code",
   "execution_count": 96,
   "metadata": {},
   "outputs": [],
   "source": [
    "image = torch.unsqueeze(image, 0)"
   ]
  },
  {
   "cell_type": "code",
   "execution_count": 64,
   "metadata": {},
   "outputs": [],
   "source": [
    "transformed_texts = []\n",
    "\n",
    "for text in sample_batch[0][1]:\n",
    "    transformed_texts.append(torch.tensor(transform_text(text)))"
   ]
  },
  {
   "cell_type": "code",
   "execution_count": 65,
   "metadata": {},
   "outputs": [
    {
     "data": {
      "text/plain": [
       "[tensor([ 0, 16, 16, 16, 16, 16,  1,  2, 17]),\n",
       " tensor([ 0, 16, 16,  3,  4, 16, 16, 16,  2, 17]),\n",
       " tensor([ 0, 16,  3,  4,  0, 16,  5, 16,  6, 16, 16,  4, 16,  2, 17]),\n",
       " tensor([ 0, 16,  3,  4,  0, 16, 16,  7,  8, 16, 16, 16, 17]),\n",
       " tensor([ 0,  3,  9, 16,  4, 16,  2,  4, 16, 16, 17])]"
      ]
     },
     "execution_count": 65,
     "metadata": {},
     "output_type": "execute_result"
    }
   ],
   "source": [
    "transformed_texts"
   ]
  },
  {
   "cell_type": "code",
   "execution_count": 67,
   "metadata": {},
   "outputs": [],
   "source": [
    "packed = pack_sequence(transformed_texts, enforce_sorted=False)"
   ]
  },
  {
   "cell_type": "code",
   "execution_count": 160,
   "metadata": {},
   "outputs": [],
   "source": [
    "model = SimpleModel()\n",
    "ans = model.forward(image, packed)"
   ]
  },
  {
   "cell_type": "code",
   "execution_count": 162,
   "metadata": {},
   "outputs": [
    {
     "data": {
      "text/plain": [
       "torch.Size([58, 18])"
      ]
     },
     "execution_count": 162,
     "metadata": {},
     "output_type": "execute_result"
    }
   ],
   "source": [
    "ans[0].data.shape"
   ]
  },
  {
   "cell_type": "code",
   "execution_count": 165,
   "metadata": {},
   "outputs": [],
   "source": [
    "output, input_sizes = torch.nn.utils.rnn.pad_packed_sequence(ans)"
   ]
  },
  {
   "cell_type": "code",
   "execution_count": 167,
   "metadata": {},
   "outputs": [
    {
     "data": {
      "text/plain": [
       "tensor([15, 13, 11, 10,  9])"
      ]
     },
     "execution_count": 167,
     "metadata": {},
     "output_type": "execute_result"
    }
   ],
   "source": [
    "input_sizes"
   ]
  },
  {
   "cell_type": "code",
   "execution_count": 168,
   "metadata": {},
   "outputs": [
    {
     "data": {
      "text/plain": [
       "[tensor([ 0, 16, 16, 16, 16, 16,  1,  2, 17]),\n",
       " tensor([ 0, 16, 16,  3,  4, 16, 16, 16,  2, 17]),\n",
       " tensor([ 0, 16,  3,  4,  0, 16,  5, 16,  6, 16, 16,  4, 16,  2, 17]),\n",
       " tensor([ 0, 16,  3,  4,  0, 16, 16,  7,  8, 16, 16, 16, 17]),\n",
       " tensor([ 0,  3,  9, 16,  4, 16,  2,  4, 16, 16, 17])]"
      ]
     },
     "execution_count": 168,
     "metadata": {},
     "output_type": "execute_result"
    }
   ],
   "source": [
    "transformed_texts"
   ]
  },
  {
   "cell_type": "code",
   "execution_count": 169,
   "metadata": {},
   "outputs": [],
   "source": [
    "loss = nn.CrossEntropyLoss()\n",
    "input = torch.randn(3, 5, requires_grad=True)\n",
    "target = torch.empty(3, dtype=torch.long).random_(5)\n",
    "output = loss(input, target)\n",
    "output.backward()"
   ]
  },
  {
   "cell_type": "code",
   "execution_count": 170,
   "metadata": {},
   "outputs": [
    {
     "data": {
      "text/plain": [
       "torch.Size([3, 5])"
      ]
     },
     "execution_count": 170,
     "metadata": {},
     "output_type": "execute_result"
    }
   ],
   "source": [
    "input.shape"
   ]
  },
  {
   "cell_type": "code",
   "execution_count": 171,
   "metadata": {},
   "outputs": [
    {
     "data": {
      "text/plain": [
       "torch.Size([3])"
      ]
     },
     "execution_count": 171,
     "metadata": {},
     "output_type": "execute_result"
    }
   ],
   "source": [
    "target.shape"
   ]
  },
  {
   "cell_type": "code",
   "execution_count": null,
   "metadata": {},
   "outputs": [],
   "source": [
    "loss = nn.CrossEntropyLoss()"
   ]
  },
  {
   "cell_type": "code",
   "execution_count": 183,
   "metadata": {},
   "outputs": [
    {
     "data": {
      "text/plain": [
       "torch.Size([58, 18])"
      ]
     },
     "execution_count": 183,
     "metadata": {},
     "output_type": "execute_result"
    }
   ],
   "source": [
    "ans[0].shape"
   ]
  },
  {
   "cell_type": "code",
   "execution_count": 184,
   "metadata": {},
   "outputs": [
    {
     "data": {
      "text/plain": [
       "torch.Size([58])"
      ]
     },
     "execution_count": 184,
     "metadata": {},
     "output_type": "execute_result"
    }
   ],
   "source": [
    "packed.data.shape"
   ]
  },
  {
   "cell_type": "code",
   "execution_count": 185,
   "metadata": {},
   "outputs": [
    {
     "data": {
      "text/plain": [
       "tensor(2.9096, grad_fn=<NllLossBackward>)"
      ]
     },
     "execution_count": 185,
     "metadata": {},
     "output_type": "execute_result"
    }
   ],
   "source": [
    "loss(ans[0], packed.data)"
   ]
  },
  {
   "cell_type": "code",
   "execution_count": 186,
   "metadata": {},
   "outputs": [
    {
     "data": {
      "text/plain": [
       "<generator object Module.parameters at 0x7f7125e7c3b8>"
      ]
     },
     "execution_count": 186,
     "metadata": {},
     "output_type": "execute_result"
    }
   ],
   "source": [
    "model.parameters()"
   ]
  },
  {
   "cell_type": "code",
   "execution_count": null,
   "metadata": {},
   "outputs": [],
   "source": []
  }
 ],
 "metadata": {
  "colab": {
   "collapsed_sections": [],
   "name": "Untitled.ipynb",
   "provenance": []
  },
  "kernelspec": {
   "display_name": "Python 3",
   "language": "python",
   "name": "python3"
  },
  "language_info": {
   "codemirror_mode": {
    "name": "ipython",
    "version": 3
   },
   "file_extension": ".py",
   "mimetype": "text/x-python",
   "name": "python",
   "nbconvert_exporter": "python",
   "pygments_lexer": "ipython3",
   "version": "3.6.7"
  }
 },
 "nbformat": 4,
 "nbformat_minor": 1
}
